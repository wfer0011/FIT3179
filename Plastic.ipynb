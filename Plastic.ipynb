{
 "cells": [
  {
   "cell_type": "code",
   "execution_count": 1,
   "id": "487a23bc",
   "metadata": {},
   "outputs": [],
   "source": []
  },
  {
   "cell_type": "code",
   "execution_count": 5,
   "id": "7d149064",
   "metadata": {},
   "outputs": [],
   "source": [
    "import pandas as pd\n",
    "# reading two csv files\n",
    "data1 = pd.read_csv('mismanaged-waste-global-total.csv')\n",
    "data2 = pd.read_csv('latlong_country.csv')\n",
    "\n",
    "#using merge function by setting how='inner'\n",
    "output1 = pd.merge(data1, data2,\n",
    "on='Entity',\n",
    "how='inner')\n",
    "\n",
    "# displaying result\n",
    "output1\n",
    "#data1\n",
    "output1.to_csv ('C:/Users/User/Desktop/Data Vis/MWlatlong.csv', index = False, header=True)\n"
   ]
  },
  {
   "cell_type": "code",
   "execution_count": null,
   "id": "211fc28d",
   "metadata": {},
   "outputs": [],
   "source": []
  }
 ],
 "metadata": {
  "kernelspec": {
   "display_name": "Python 3 (ipykernel)",
   "language": "python",
   "name": "python3"
  },
  "language_info": {
   "codemirror_mode": {
    "name": "ipython",
    "version": 3
   },
   "file_extension": ".py",
   "mimetype": "text/x-python",
   "name": "python",
   "nbconvert_exporter": "python",
   "pygments_lexer": "ipython3",
   "version": "3.9.12"
  }
 },
 "nbformat": 4,
 "nbformat_minor": 5
}
